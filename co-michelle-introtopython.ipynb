{
 "cells": [
  {
   "cell_type": "markdown",
   "metadata": {},
   "source": [
    "195705 Co 2 BS ITE"
   ]
  },
  {
   "cell_type": "code",
   "execution_count": 1,
   "metadata": {},
   "outputs": [],
   "source": [
    "def compute_threenumberavg(a, b, c):\n",
    "    threenumberavg = (a + b + c)/3\n",
    "    return threenumberavg"
   ]
  },
  {
   "cell_type": "code",
   "execution_count": 3,
   "metadata": {},
   "outputs": [
    {
     "name": "stdout",
     "output_type": "stream",
     "text": [
      "Enter first number:4\n",
      "Enter second number:5\n",
      "Enter third number:6\n",
      "The average is 5.0\n"
     ]
    }
   ],
   "source": [
    "# ask for first number\n",
    "a = int(input(\"Enter first number:\"))\n",
    "\n",
    "# ask for second number\n",
    "b = int(input(\"Enter second number:\"))\n",
    "\n",
    "# ask fro third number\n",
    "c = int(input(\"Enter third number:\"))\n",
    "\n",
    "# compute for three number average\n",
    "threenumberavg = compute_threenumberavg (a, b, c)\n",
    "\n",
    "# display three number average\n",
    "print (\"The average is\", threenumberavg)"
   ]
  },
  {
   "cell_type": "code",
   "execution_count": null,
   "metadata": {},
   "outputs": [],
   "source": []
  }
 ],
 "metadata": {
  "kernelspec": {
   "display_name": "Python 3",
   "language": "python",
   "name": "python3"
  },
  "language_info": {
   "codemirror_mode": {
    "name": "ipython",
    "version": 3
   },
   "file_extension": ".py",
   "mimetype": "text/x-python",
   "name": "python",
   "nbconvert_exporter": "python",
   "pygments_lexer": "ipython3",
   "version": "3.8.3"
  }
 },
 "nbformat": 4,
 "nbformat_minor": 4
}
